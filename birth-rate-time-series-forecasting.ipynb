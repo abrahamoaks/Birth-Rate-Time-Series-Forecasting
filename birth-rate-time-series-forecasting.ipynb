{
 "cells": [
  {
   "cell_type": "raw",
   "id": "guilty-handbook",
   "metadata": {
    "papermill": {
     "duration": 0.025354,
     "end_time": "2021-06-30T06:51:34.267190",
     "exception": false,
     "start_time": "2021-06-30T06:51:34.241836",
     "status": "completed"
    },
    "tags": []
   },
   "source": [
    "Birth 2015 - Time Series Analysis"
   ]
  },
  {
   "cell_type": "code",
   "execution_count": 1,
   "id": "weighted-habitat",
   "metadata": {
    "execution": {
     "iopub.execute_input": "2021-06-30T06:51:34.320352Z",
     "iopub.status.busy": "2021-06-30T06:51:34.319131Z",
     "iopub.status.idle": "2021-06-30T06:51:34.328887Z",
     "shell.execute_reply": "2021-06-30T06:51:34.329604Z",
     "shell.execute_reply.started": "2021-06-30T06:46:21.943402Z"
    },
    "papermill": {
     "duration": 0.03795,
     "end_time": "2021-06-30T06:51:34.329993",
     "exception": false,
     "start_time": "2021-06-30T06:51:34.292043",
     "status": "completed"
    },
    "tags": []
   },
   "outputs": [
    {
     "name": "stdout",
     "output_type": "stream",
     "text": [
      "['births2015']\n"
     ]
    }
   ],
   "source": [
    "import os\n",
    "print(os.listdir(\"../input\"))"
   ]
  },
  {
   "cell_type": "code",
   "execution_count": 2,
   "id": "accurate-academy",
   "metadata": {
    "execution": {
     "iopub.execute_input": "2021-06-30T06:51:34.384987Z",
     "iopub.status.busy": "2021-06-30T06:51:34.384339Z",
     "iopub.status.idle": "2021-06-30T06:51:35.810449Z",
     "shell.execute_reply": "2021-06-30T06:51:35.810942Z",
     "shell.execute_reply.started": "2021-06-30T06:46:21.95134Z"
    },
    "papermill": {
     "duration": 1.4543,
     "end_time": "2021-06-30T06:51:35.811142",
     "exception": false,
     "start_time": "2021-06-30T06:51:34.356842",
     "status": "completed"
    },
    "tags": []
   },
   "outputs": [],
   "source": [
    "import pandas as pd\n",
    "import numpy as np\n",
    "import matplotlib.pyplot as plt\n",
    "from statsmodels.tsa.arima_model import ARIMA\n",
    "from sklearn.metrics import mean_squared_error\n",
    "import warnings\n",
    "warnings.filterwarnings('ignore')"
   ]
  },
  {
   "cell_type": "code",
   "execution_count": 3,
   "id": "dense-canberra",
   "metadata": {
    "execution": {
     "iopub.execute_input": "2021-06-30T06:51:35.863998Z",
     "iopub.status.busy": "2021-06-30T06:51:35.863375Z",
     "iopub.status.idle": "2021-06-30T06:51:35.910117Z",
     "shell.execute_reply": "2021-06-30T06:51:35.909610Z",
     "shell.execute_reply.started": "2021-06-30T06:46:21.965704Z"
    },
    "papermill": {
     "duration": 0.073896,
     "end_time": "2021-06-30T06:51:35.910275",
     "exception": false,
     "start_time": "2021-06-30T06:51:35.836379",
     "status": "completed"
    },
    "tags": []
   },
   "outputs": [
    {
     "data": {
      "text/html": [
       "<div>\n",
       "<style scoped>\n",
       "    .dataframe tbody tr th:only-of-type {\n",
       "        vertical-align: middle;\n",
       "    }\n",
       "\n",
       "    .dataframe tbody tr th {\n",
       "        vertical-align: top;\n",
       "    }\n",
       "\n",
       "    .dataframe thead th {\n",
       "        text-align: right;\n",
       "    }\n",
       "</style>\n",
       "<table border=\"1\" class=\"dataframe\">\n",
       "  <thead>\n",
       "    <tr style=\"text-align: right;\">\n",
       "      <th></th>\n",
       "      <th>Unnamed: 0</th>\n",
       "      <th>date</th>\n",
       "      <th>births</th>\n",
       "      <th>wday</th>\n",
       "      <th>year</th>\n",
       "      <th>month</th>\n",
       "      <th>day_of_year</th>\n",
       "      <th>day_of_month</th>\n",
       "      <th>day_of_week</th>\n",
       "    </tr>\n",
       "  </thead>\n",
       "  <tbody>\n",
       "    <tr>\n",
       "      <th>0</th>\n",
       "      <td>1</td>\n",
       "      <td>2015-01-01</td>\n",
       "      <td>8068</td>\n",
       "      <td>Thu</td>\n",
       "      <td>2015</td>\n",
       "      <td>1</td>\n",
       "      <td>1</td>\n",
       "      <td>1</td>\n",
       "      <td>5</td>\n",
       "    </tr>\n",
       "    <tr>\n",
       "      <th>1</th>\n",
       "      <td>2</td>\n",
       "      <td>2015-01-02</td>\n",
       "      <td>10850</td>\n",
       "      <td>Fri</td>\n",
       "      <td>2015</td>\n",
       "      <td>1</td>\n",
       "      <td>2</td>\n",
       "      <td>2</td>\n",
       "      <td>6</td>\n",
       "    </tr>\n",
       "    <tr>\n",
       "      <th>2</th>\n",
       "      <td>3</td>\n",
       "      <td>2015-01-03</td>\n",
       "      <td>8328</td>\n",
       "      <td>Sat</td>\n",
       "      <td>2015</td>\n",
       "      <td>1</td>\n",
       "      <td>3</td>\n",
       "      <td>3</td>\n",
       "      <td>7</td>\n",
       "    </tr>\n",
       "    <tr>\n",
       "      <th>3</th>\n",
       "      <td>4</td>\n",
       "      <td>2015-01-04</td>\n",
       "      <td>7065</td>\n",
       "      <td>Sun</td>\n",
       "      <td>2015</td>\n",
       "      <td>1</td>\n",
       "      <td>4</td>\n",
       "      <td>4</td>\n",
       "      <td>1</td>\n",
       "    </tr>\n",
       "    <tr>\n",
       "      <th>4</th>\n",
       "      <td>5</td>\n",
       "      <td>2015-01-05</td>\n",
       "      <td>11892</td>\n",
       "      <td>Mon</td>\n",
       "      <td>2015</td>\n",
       "      <td>1</td>\n",
       "      <td>5</td>\n",
       "      <td>5</td>\n",
       "      <td>2</td>\n",
       "    </tr>\n",
       "  </tbody>\n",
       "</table>\n",
       "</div>"
      ],
      "text/plain": [
       "   Unnamed: 0        date  births wday  year  month  day_of_year  \\\n",
       "0           1  2015-01-01    8068  Thu  2015      1            1   \n",
       "1           2  2015-01-02   10850  Fri  2015      1            2   \n",
       "2           3  2015-01-03    8328  Sat  2015      1            3   \n",
       "3           4  2015-01-04    7065  Sun  2015      1            4   \n",
       "4           5  2015-01-05   11892  Mon  2015      1            5   \n",
       "\n",
       "   day_of_month  day_of_week  \n",
       "0             1            5  \n",
       "1             2            6  \n",
       "2             3            7  \n",
       "3             4            1  \n",
       "4             5            2  "
      ]
     },
     "execution_count": 3,
     "metadata": {},
     "output_type": "execute_result"
    }
   ],
   "source": [
    "df = pd.read_csv('../input/births2015/Births2015.csv')\n",
    "df.head()"
   ]
  },
  {
   "cell_type": "code",
   "execution_count": 4,
   "id": "demanding-binary",
   "metadata": {
    "execution": {
     "iopub.execute_input": "2021-06-30T06:51:35.972444Z",
     "iopub.status.busy": "2021-06-30T06:51:35.971415Z",
     "iopub.status.idle": "2021-06-30T06:51:35.976623Z",
     "shell.execute_reply": "2021-06-30T06:51:35.977080Z",
     "shell.execute_reply.started": "2021-06-30T06:46:21.998651Z"
    },
    "papermill": {
     "duration": 0.04148,
     "end_time": "2021-06-30T06:51:35.977273",
     "exception": false,
     "start_time": "2021-06-30T06:51:35.935793",
     "status": "completed"
    },
    "tags": []
   },
   "outputs": [
    {
     "data": {
      "text/html": [
       "<div>\n",
       "<style scoped>\n",
       "    .dataframe tbody tr th:only-of-type {\n",
       "        vertical-align: middle;\n",
       "    }\n",
       "\n",
       "    .dataframe tbody tr th {\n",
       "        vertical-align: top;\n",
       "    }\n",
       "\n",
       "    .dataframe thead th {\n",
       "        text-align: right;\n",
       "    }\n",
       "</style>\n",
       "<table border=\"1\" class=\"dataframe\">\n",
       "  <thead>\n",
       "    <tr style=\"text-align: right;\">\n",
       "      <th></th>\n",
       "      <th>date</th>\n",
       "      <th>births</th>\n",
       "    </tr>\n",
       "  </thead>\n",
       "  <tbody>\n",
       "    <tr>\n",
       "      <th>0</th>\n",
       "      <td>2015-01-01</td>\n",
       "      <td>8068</td>\n",
       "    </tr>\n",
       "    <tr>\n",
       "      <th>1</th>\n",
       "      <td>2015-01-02</td>\n",
       "      <td>10850</td>\n",
       "    </tr>\n",
       "    <tr>\n",
       "      <th>2</th>\n",
       "      <td>2015-01-03</td>\n",
       "      <td>8328</td>\n",
       "    </tr>\n",
       "    <tr>\n",
       "      <th>3</th>\n",
       "      <td>2015-01-04</td>\n",
       "      <td>7065</td>\n",
       "    </tr>\n",
       "    <tr>\n",
       "      <th>4</th>\n",
       "      <td>2015-01-05</td>\n",
       "      <td>11892</td>\n",
       "    </tr>\n",
       "  </tbody>\n",
       "</table>\n",
       "</div>"
      ],
      "text/plain": [
       "         date  births\n",
       "0  2015-01-01    8068\n",
       "1  2015-01-02   10850\n",
       "2  2015-01-03    8328\n",
       "3  2015-01-04    7065\n",
       "4  2015-01-05   11892"
      ]
     },
     "execution_count": 4,
     "metadata": {},
     "output_type": "execute_result"
    }
   ],
   "source": [
    "df = df[['date','births']]\n",
    "df.head()"
   ]
  },
  {
   "cell_type": "code",
   "execution_count": 5,
   "id": "characteristic-timeline",
   "metadata": {
    "execution": {
     "iopub.execute_input": "2021-06-30T06:51:36.034345Z",
     "iopub.status.busy": "2021-06-30T06:51:36.033651Z",
     "iopub.status.idle": "2021-06-30T06:51:36.037217Z",
     "shell.execute_reply": "2021-06-30T06:51:36.036616Z",
     "shell.execute_reply.started": "2021-06-30T06:46:22.011482Z"
    },
    "papermill": {
     "duration": 0.034929,
     "end_time": "2021-06-30T06:51:36.037377",
     "exception": false,
     "start_time": "2021-06-30T06:51:36.002448",
     "status": "completed"
    },
    "tags": []
   },
   "outputs": [],
   "source": [
    "df.set_index('date',inplace=True)"
   ]
  },
  {
   "cell_type": "code",
   "execution_count": 6,
   "id": "complimentary-force",
   "metadata": {
    "execution": {
     "iopub.execute_input": "2021-06-30T06:51:36.091449Z",
     "iopub.status.busy": "2021-06-30T06:51:36.090815Z",
     "iopub.status.idle": "2021-06-30T06:51:36.099763Z",
     "shell.execute_reply": "2021-06-30T06:51:36.099218Z",
     "shell.execute_reply.started": "2021-06-30T06:46:22.023657Z"
    },
    "papermill": {
     "duration": 0.037328,
     "end_time": "2021-06-30T06:51:36.099913",
     "exception": false,
     "start_time": "2021-06-30T06:51:36.062585",
     "status": "completed"
    },
    "tags": []
   },
   "outputs": [
    {
     "data": {
      "text/html": [
       "<div>\n",
       "<style scoped>\n",
       "    .dataframe tbody tr th:only-of-type {\n",
       "        vertical-align: middle;\n",
       "    }\n",
       "\n",
       "    .dataframe tbody tr th {\n",
       "        vertical-align: top;\n",
       "    }\n",
       "\n",
       "    .dataframe thead th {\n",
       "        text-align: right;\n",
       "    }\n",
       "</style>\n",
       "<table border=\"1\" class=\"dataframe\">\n",
       "  <thead>\n",
       "    <tr style=\"text-align: right;\">\n",
       "      <th></th>\n",
       "      <th>births</th>\n",
       "    </tr>\n",
       "    <tr>\n",
       "      <th>date</th>\n",
       "      <th></th>\n",
       "    </tr>\n",
       "  </thead>\n",
       "  <tbody>\n",
       "    <tr>\n",
       "      <th>2015-01-01</th>\n",
       "      <td>8068</td>\n",
       "    </tr>\n",
       "    <tr>\n",
       "      <th>2015-01-02</th>\n",
       "      <td>10850</td>\n",
       "    </tr>\n",
       "    <tr>\n",
       "      <th>2015-01-03</th>\n",
       "      <td>8328</td>\n",
       "    </tr>\n",
       "    <tr>\n",
       "      <th>2015-01-04</th>\n",
       "      <td>7065</td>\n",
       "    </tr>\n",
       "    <tr>\n",
       "      <th>2015-01-05</th>\n",
       "      <td>11892</td>\n",
       "    </tr>\n",
       "  </tbody>\n",
       "</table>\n",
       "</div>"
      ],
      "text/plain": [
       "            births\n",
       "date              \n",
       "2015-01-01    8068\n",
       "2015-01-02   10850\n",
       "2015-01-03    8328\n",
       "2015-01-04    7065\n",
       "2015-01-05   11892"
      ]
     },
     "execution_count": 6,
     "metadata": {},
     "output_type": "execute_result"
    }
   ],
   "source": [
    "df.head()"
   ]
  },
  {
   "cell_type": "code",
   "execution_count": 7,
   "id": "bizarre-selection",
   "metadata": {
    "execution": {
     "iopub.execute_input": "2021-06-30T06:51:36.156882Z",
     "iopub.status.busy": "2021-06-30T06:51:36.155733Z",
     "iopub.status.idle": "2021-06-30T06:51:36.173333Z",
     "shell.execute_reply": "2021-06-30T06:51:36.173792Z",
     "shell.execute_reply.started": "2021-06-30T06:46:22.042084Z"
    },
    "papermill": {
     "duration": 0.048353,
     "end_time": "2021-06-30T06:51:36.173996",
     "exception": false,
     "start_time": "2021-06-30T06:51:36.125643",
     "status": "completed"
    },
    "scrolled": true,
    "tags": []
   },
   "outputs": [
    {
     "data": {
      "text/html": [
       "<div>\n",
       "<style scoped>\n",
       "    .dataframe tbody tr th:only-of-type {\n",
       "        vertical-align: middle;\n",
       "    }\n",
       "\n",
       "    .dataframe tbody tr th {\n",
       "        vertical-align: top;\n",
       "    }\n",
       "\n",
       "    .dataframe thead th {\n",
       "        text-align: right;\n",
       "    }\n",
       "</style>\n",
       "<table border=\"1\" class=\"dataframe\">\n",
       "  <thead>\n",
       "    <tr style=\"text-align: right;\">\n",
       "      <th></th>\n",
       "      <th>births</th>\n",
       "    </tr>\n",
       "  </thead>\n",
       "  <tbody>\n",
       "    <tr>\n",
       "      <th>count</th>\n",
       "      <td>365.000000</td>\n",
       "    </tr>\n",
       "    <tr>\n",
       "      <th>mean</th>\n",
       "      <td>10899.991781</td>\n",
       "    </tr>\n",
       "    <tr>\n",
       "      <th>std</th>\n",
       "      <td>2076.683881</td>\n",
       "    </tr>\n",
       "    <tr>\n",
       "      <th>min</th>\n",
       "      <td>6515.000000</td>\n",
       "    </tr>\n",
       "    <tr>\n",
       "      <th>25%</th>\n",
       "      <td>8431.000000</td>\n",
       "    </tr>\n",
       "    <tr>\n",
       "      <th>50%</th>\n",
       "      <td>11883.000000</td>\n",
       "    </tr>\n",
       "    <tr>\n",
       "      <th>75%</th>\n",
       "      <td>12339.000000</td>\n",
       "    </tr>\n",
       "    <tr>\n",
       "      <th>max</th>\n",
       "      <td>13949.000000</td>\n",
       "    </tr>\n",
       "  </tbody>\n",
       "</table>\n",
       "</div>"
      ],
      "text/plain": [
       "             births\n",
       "count    365.000000\n",
       "mean   10899.991781\n",
       "std     2076.683881\n",
       "min     6515.000000\n",
       "25%     8431.000000\n",
       "50%    11883.000000\n",
       "75%    12339.000000\n",
       "max    13949.000000"
      ]
     },
     "execution_count": 7,
     "metadata": {},
     "output_type": "execute_result"
    }
   ],
   "source": [
    "df.describe()"
   ]
  },
  {
   "cell_type": "code",
   "execution_count": 8,
   "id": "criminal-portfolio",
   "metadata": {
    "execution": {
     "iopub.execute_input": "2021-06-30T06:51:36.230120Z",
     "iopub.status.busy": "2021-06-30T06:51:36.229468Z",
     "iopub.status.idle": "2021-06-30T06:51:36.487236Z",
     "shell.execute_reply": "2021-06-30T06:51:36.487830Z",
     "shell.execute_reply.started": "2021-06-30T06:46:22.069491Z"
    },
    "papermill": {
     "duration": 0.287877,
     "end_time": "2021-06-30T06:51:36.488005",
     "exception": false,
     "start_time": "2021-06-30T06:51:36.200128",
     "status": "completed"
    },
    "scrolled": true,
    "tags": []
   },
   "outputs": [
    {
     "data": {
      "text/plain": [
       "<AxesSubplot:xlabel='date'>"
      ]
     },
     "execution_count": 8,
     "metadata": {},
     "output_type": "execute_result"
    },
    {
     "data": {
      "image/png": "[encoded data removed]",
      "text/plain": [
       "<Figure size 432x288 with 1 Axes>"
      ]
     },
     "metadata": {
      "needs_background": "light"
     },
     "output_type": "display_data"
    }
   ],
   "source": [
    "df.plot()"
   ]
  },
  {
   "cell_type": "code",
   "execution_count": 9,
   "id": "looking-shore",
   "metadata": {
    "execution": {
     "iopub.execute_input": "2021-06-30T06:51:36.548267Z",
     "iopub.status.busy": "2021-06-30T06:51:36.547614Z",
     "iopub.status.idle": "2021-06-30T06:51:36.717271Z",
     "shell.execute_reply": "2021-06-30T06:51:36.716639Z",
     "shell.execute_reply.started": "2021-06-30T06:46:22.320228Z"
    },
    "papermill": {
     "duration": 0.200322,
     "end_time": "2021-06-30T06:51:36.717407",
     "exception": false,
     "start_time": "2021-06-30T06:51:36.517085",
     "status": "completed"
    },
    "tags": []
   },
   "outputs": [
    {
     "data": {
      "text/plain": [
       "<AxesSubplot:xlabel='date'>"
      ]
     },
     "execution_count": 9,
     "metadata": {},
     "output_type": "execute_result"
    },
    {
     "data": {
      "image/png": "[encoded data removed]",
      "text/plain": [
       "<Figure size 432x288 with 1 Axes>"
      ]
     },
     "metadata": {
      "needs_background": "light"
     },
     "output_type": "display_data"
    }
   ],
   "source": [
    "df.births.rolling(window=30).mean().plot()"
   ]
  },
  {
   "cell_type": "code",
   "execution_count": 10,
   "id": "filled-pierce",
   "metadata": {
    "execution": {
     "iopub.execute_input": "2021-06-30T06:51:36.784739Z",
     "iopub.status.busy": "2021-06-30T06:51:36.783678Z",
     "iopub.status.idle": "2021-06-30T06:51:36.786887Z",
     "shell.execute_reply": "2021-06-30T06:51:36.786341Z",
     "shell.execute_reply.started": "2021-06-30T06:46:56.52725Z"
    },
    "papermill": {
     "duration": 0.037586,
     "end_time": "2021-06-30T06:51:36.787025",
     "exception": false,
     "start_time": "2021-06-30T06:51:36.749439",
     "status": "completed"
    },
    "tags": []
   },
   "outputs": [],
   "source": [
    "# Naive methodology considering predicted vales as preceeding value to check the error in birthe rate, since we can observe a pattern in moving average plot"
   ]
  },
  {
   "cell_type": "code",
   "execution_count": 11,
   "id": "mighty-brief",
   "metadata": {
    "execution": {
     "iopub.execute_input": "2021-06-30T06:51:36.853410Z",
     "iopub.status.busy": "2021-06-30T06:51:36.852261Z",
     "iopub.status.idle": "2021-06-30T06:51:36.855933Z",
     "shell.execute_reply": "2021-06-30T06:51:36.855409Z",
     "shell.execute_reply.started": "2021-06-30T06:46:22.484696Z"
    },
    "papermill": {
     "duration": 0.038561,
     "end_time": "2021-06-30T06:51:36.856077",
     "exception": false,
     "start_time": "2021-06-30T06:51:36.817516",
     "status": "completed"
    },
    "tags": []
   },
   "outputs": [],
   "source": [
    "val = pd.Series(df.births)"
   ]
  },
  {
   "cell_type": "code",
   "execution_count": 12,
   "id": "acceptable-dimension",
   "metadata": {
    "execution": {
     "iopub.execute_input": "2021-06-30T06:51:36.930190Z",
     "iopub.status.busy": "2021-06-30T06:51:36.929032Z",
     "iopub.status.idle": "2021-06-30T06:51:36.933451Z",
     "shell.execute_reply": "2021-06-30T06:51:36.933948Z",
     "shell.execute_reply.started": "2021-06-30T06:46:22.495425Z"
    },
    "papermill": {
     "duration": 0.047914,
     "end_time": "2021-06-30T06:51:36.934141",
     "exception": false,
     "start_time": "2021-06-30T06:51:36.886227",
     "status": "completed"
    },
    "tags": []
   },
   "outputs": [
    {
     "data": {
      "text/html": [
       "<div>\n",
       "<style scoped>\n",
       "    .dataframe tbody tr th:only-of-type {\n",
       "        vertical-align: middle;\n",
       "    }\n",
       "\n",
       "    .dataframe tbody tr th {\n",
       "        vertical-align: top;\n",
       "    }\n",
       "\n",
       "    .dataframe thead th {\n",
       "        text-align: right;\n",
       "    }\n",
       "</style>\n",
       "<table border=\"1\" class=\"dataframe\">\n",
       "  <thead>\n",
       "    <tr style=\"text-align: right;\">\n",
       "      <th></th>\n",
       "      <th>births</th>\n",
       "      <th>births</th>\n",
       "    </tr>\n",
       "    <tr>\n",
       "      <th>date</th>\n",
       "      <th></th>\n",
       "      <th></th>\n",
       "    </tr>\n",
       "  </thead>\n",
       "  <tbody>\n",
       "    <tr>\n",
       "      <th>2015-01-01</th>\n",
       "      <td>8068</td>\n",
       "      <td>NaN</td>\n",
       "    </tr>\n",
       "    <tr>\n",
       "      <th>2015-01-02</th>\n",
       "      <td>10850</td>\n",
       "      <td>8068.0</td>\n",
       "    </tr>\n",
       "    <tr>\n",
       "      <th>2015-01-03</th>\n",
       "      <td>8328</td>\n",
       "      <td>10850.0</td>\n",
       "    </tr>\n",
       "    <tr>\n",
       "      <th>2015-01-04</th>\n",
       "      <td>7065</td>\n",
       "      <td>8328.0</td>\n",
       "    </tr>\n",
       "    <tr>\n",
       "      <th>2015-01-05</th>\n",
       "      <td>11892</td>\n",
       "      <td>7065.0</td>\n",
       "    </tr>\n",
       "  </tbody>\n",
       "</table>\n",
       "</div>"
      ],
      "text/plain": [
       "            births   births\n",
       "date                       \n",
       "2015-01-01    8068      NaN\n",
       "2015-01-02   10850   8068.0\n",
       "2015-01-03    8328  10850.0\n",
       "2015-01-04    7065   8328.0\n",
       "2015-01-05   11892   7065.0"
      ]
     },
     "execution_count": 12,
     "metadata": {},
     "output_type": "execute_result"
    }
   ],
   "source": [
    "df1 = pd.concat([val,val.shift(1)],axis=1)\n",
    "df1.head()"
   ]
  },
  {
   "cell_type": "code",
   "execution_count": 13,
   "id": "addressed-closing",
   "metadata": {
    "execution": {
     "iopub.execute_input": "2021-06-30T06:51:37.003483Z",
     "iopub.status.busy": "2021-06-30T06:51:37.002446Z",
     "iopub.status.idle": "2021-06-30T06:51:37.013713Z",
     "shell.execute_reply": "2021-06-30T06:51:37.014224Z",
     "shell.execute_reply.started": "2021-06-30T06:46:22.515268Z"
    },
    "papermill": {
     "duration": 0.047326,
     "end_time": "2021-06-30T06:51:37.014421",
     "exception": false,
     "start_time": "2021-06-30T06:51:36.967095",
     "status": "completed"
    },
    "tags": []
   },
   "outputs": [
    {
     "data": {
      "text/html": [
       "<div>\n",
       "<style scoped>\n",
       "    .dataframe tbody tr th:only-of-type {\n",
       "        vertical-align: middle;\n",
       "    }\n",
       "\n",
       "    .dataframe tbody tr th {\n",
       "        vertical-align: top;\n",
       "    }\n",
       "\n",
       "    .dataframe thead th {\n",
       "        text-align: right;\n",
       "    }\n",
       "</style>\n",
       "<table border=\"1\" class=\"dataframe\">\n",
       "  <thead>\n",
       "    <tr style=\"text-align: right;\">\n",
       "      <th></th>\n",
       "      <th>Actual_births</th>\n",
       "      <th>Predicted_births</th>\n",
       "    </tr>\n",
       "    <tr>\n",
       "      <th>date</th>\n",
       "      <th></th>\n",
       "      <th></th>\n",
       "    </tr>\n",
       "  </thead>\n",
       "  <tbody>\n",
       "    <tr>\n",
       "      <th>2015-01-01</th>\n",
       "      <td>8068</td>\n",
       "      <td>NaN</td>\n",
       "    </tr>\n",
       "    <tr>\n",
       "      <th>2015-01-02</th>\n",
       "      <td>10850</td>\n",
       "      <td>8068.0</td>\n",
       "    </tr>\n",
       "    <tr>\n",
       "      <th>2015-01-03</th>\n",
       "      <td>8328</td>\n",
       "      <td>10850.0</td>\n",
       "    </tr>\n",
       "    <tr>\n",
       "      <th>2015-01-04</th>\n",
       "      <td>7065</td>\n",
       "      <td>8328.0</td>\n",
       "    </tr>\n",
       "    <tr>\n",
       "      <th>2015-01-05</th>\n",
       "      <td>11892</td>\n",
       "      <td>7065.0</td>\n",
       "    </tr>\n",
       "  </tbody>\n",
       "</table>\n",
       "</div>"
      ],
      "text/plain": [
       "            Actual_births  Predicted_births\n",
       "date                                       \n",
       "2015-01-01           8068               NaN\n",
       "2015-01-02          10850            8068.0\n",
       "2015-01-03           8328           10850.0\n",
       "2015-01-04           7065            8328.0\n",
       "2015-01-05          11892            7065.0"
      ]
     },
     "execution_count": 13,
     "metadata": {},
     "output_type": "execute_result"
    }
   ],
   "source": [
    "df1.columns = ['Actual_births','Predicted_births' ]\n",
    "df1.head()"
   ]
  },
  {
   "cell_type": "code",
   "execution_count": 14,
   "id": "minus-stanford",
   "metadata": {
    "execution": {
     "iopub.execute_input": "2021-06-30T06:51:37.084071Z",
     "iopub.status.busy": "2021-06-30T06:51:37.082843Z",
     "iopub.status.idle": "2021-06-30T06:51:37.088146Z",
     "shell.execute_reply": "2021-06-30T06:51:37.087605Z",
     "shell.execute_reply.started": "2021-06-30T06:46:22.528261Z"
    },
    "papermill": {
     "duration": 0.040173,
     "end_time": "2021-06-30T06:51:37.088316",
     "exception": false,
     "start_time": "2021-06-30T06:51:37.048143",
     "status": "completed"
    },
    "tags": []
   },
   "outputs": [],
   "source": [
    "df2 = df1[1:]"
   ]
  },
  {
   "cell_type": "code",
   "execution_count": 15,
   "id": "incredible-challenge",
   "metadata": {
    "execution": {
     "iopub.execute_input": "2021-06-30T06:51:37.154645Z",
     "iopub.status.busy": "2021-06-30T06:51:37.153623Z",
     "iopub.status.idle": "2021-06-30T06:51:37.160719Z",
     "shell.execute_reply": "2021-06-30T06:51:37.161233Z",
     "shell.execute_reply.started": "2021-06-30T06:46:22.539912Z"
    },
    "papermill": {
     "duration": 0.041831,
     "end_time": "2021-06-30T06:51:37.161425",
     "exception": false,
     "start_time": "2021-06-30T06:51:37.119594",
     "status": "completed"
    },
    "tags": []
   },
   "outputs": [
    {
     "data": {
      "text/plain": [
       "5162403.576923077"
      ]
     },
     "execution_count": 15,
     "metadata": {},
     "output_type": "execute_result"
    }
   ],
   "source": [
    "# Checking for residual error from this method\n",
    "mse = mean_squared_error(df2.Actual_births,df2.Predicted_births)\n",
    "mse"
   ]
  },
  {
   "cell_type": "code",
   "execution_count": 16,
   "id": "dependent-latter",
   "metadata": {
    "execution": {
     "iopub.execute_input": "2021-06-30T06:51:37.230834Z",
     "iopub.status.busy": "2021-06-30T06:51:37.229803Z",
     "iopub.status.idle": "2021-06-30T06:51:37.235140Z",
     "shell.execute_reply": "2021-06-30T06:51:37.235685Z",
     "shell.execute_reply.started": "2021-06-30T06:46:22.554832Z"
    },
    "papermill": {
     "duration": 0.03998,
     "end_time": "2021-06-30T06:51:37.235859",
     "exception": false,
     "start_time": "2021-06-30T06:51:37.195879",
     "status": "completed"
    },
    "tags": []
   },
   "outputs": [
    {
     "data": {
      "text/plain": [
       "2272.092334594498"
      ]
     },
     "execution_count": 16,
     "metadata": {},
     "output_type": "execute_result"
    }
   ],
   "source": [
    "error=np.sqrt(mse)\n",
    "error"
   ]
  },
  {
   "cell_type": "markdown",
   "id": "personalized-screening",
   "metadata": {
    "papermill": {
     "duration": 0.032079,
     "end_time": "2021-06-30T06:51:37.299126",
     "exception": false,
     "start_time": "2021-06-30T06:51:37.267047",
     "status": "completed"
    },
    "tags": []
   },
   "source": [
    "Std dvn is 2076.683881 which is closer to the 2272 where error component is very less"
   ]
  },
  {
   "cell_type": "code",
   "execution_count": 17,
   "id": "julian-gazette",
   "metadata": {
    "execution": {
     "iopub.execute_input": "2021-06-30T06:51:37.365803Z",
     "iopub.status.busy": "2021-06-30T06:51:37.364863Z",
     "iopub.status.idle": "2021-06-30T06:51:37.368347Z",
     "shell.execute_reply": "2021-06-30T06:51:37.368848Z",
     "shell.execute_reply.started": "2021-06-30T06:46:22.572152Z"
    },
    "papermill": {
     "duration": 0.038447,
     "end_time": "2021-06-30T06:51:37.369017",
     "exception": false,
     "start_time": "2021-06-30T06:51:37.330570",
     "status": "completed"
    },
    "tags": []
   },
   "outputs": [],
   "source": [
    "# Arima method"
   ]
  },
  {
   "cell_type": "code",
   "execution_count": 18,
   "id": "revised-vietnam",
   "metadata": {
    "execution": {
     "iopub.execute_input": "2021-06-30T06:51:37.436728Z",
     "iopub.status.busy": "2021-06-30T06:51:37.435758Z",
     "iopub.status.idle": "2021-06-30T06:51:37.453439Z",
     "shell.execute_reply": "2021-06-30T06:51:37.452775Z",
     "shell.execute_reply.started": "2021-06-30T06:46:22.581236Z"
    },
    "papermill": {
     "duration": 0.051847,
     "end_time": "2021-06-30T06:51:37.453595",
     "exception": false,
     "start_time": "2021-06-30T06:51:37.401748",
     "status": "completed"
    },
    "tags": []
   },
   "outputs": [],
   "source": [
    "from statsmodels.graphics.tsaplots import plot_acf,plot_pacf"
   ]
  },
  {
   "cell_type": "code",
   "execution_count": 19,
   "id": "complete-today",
   "metadata": {
    "execution": {
     "iopub.execute_input": "2021-06-30T06:51:37.556931Z",
     "iopub.status.busy": "2021-06-30T06:51:37.544947Z",
     "iopub.status.idle": "2021-06-30T06:51:37.851302Z",
     "shell.execute_reply": "2021-06-30T06:51:37.851795Z",
     "shell.execute_reply.started": "2021-06-30T06:46:22.609185Z"
    },
    "papermill": {
     "duration": 0.366851,
     "end_time": "2021-06-30T06:51:37.851973",
     "exception": false,
     "start_time": "2021-06-30T06:51:37.485122",
     "status": "completed"
    },
    "tags": []
   },
   "outputs": [
    {
     "data": {
      "image/png": "[encoded data removed]",
      "text/plain": [
       "<Figure size 432x288 with 1 Axes>"
      ]
     },
     "execution_count": 19,
     "metadata": {},
     "output_type": "execute_result"
    },
    {
     "data": {
      "image/png": "[encoded data removed]",
      "text/plain": [
       "<Figure size 432x288 with 1 Axes>"
      ]
     },
     "metadata": {
      "needs_background": "light"
     },
     "output_type": "display_data"
    }
   ],
   "source": [
    "plot_acf(df)"
   ]
  },
  {
   "cell_type": "code",
   "execution_count": 20,
   "id": "damaged-tennis",
   "metadata": {
    "execution": {
     "iopub.execute_input": "2021-06-30T06:51:37.922023Z",
     "iopub.status.busy": "2021-06-30T06:51:37.921381Z",
     "iopub.status.idle": "2021-06-30T06:51:38.271417Z",
     "shell.execute_reply": "2021-06-30T06:51:38.270756Z",
     "shell.execute_reply.started": "2021-06-30T06:46:22.876754Z"
    },
    "papermill": {
     "duration": 0.38675,
     "end_time": "2021-06-30T06:51:38.271564",
     "exception": false,
     "start_time": "2021-06-30T06:51:37.884814",
     "status": "completed"
    },
    "tags": []
   },
   "outputs": [
    {
     "data": {
      "image/png": "[encoded data removed]",
      "text/plain": [
       "<Figure size 432x288 with 1 Axes>"
      ]
     },
     "execution_count": 20,
     "metadata": {},
     "output_type": "execute_result"
    },
    {
     "data": {
      "image/png": "[encoded data removed]",
      "text/plain": [
       "<Figure size 432x288 with 1 Axes>"
      ]
     },
     "metadata": {
      "needs_background": "light"
     },
     "output_type": "display_data"
    }
   ],
   "source": [
    "plot_pacf(df)"
   ]
  },
  {
   "cell_type": "code",
   "execution_count": 21,
   "id": "prerequisite-wildlife",
   "metadata": {
    "execution": {
     "iopub.execute_input": "2021-06-30T06:51:38.345331Z",
     "iopub.status.busy": "2021-06-30T06:51:38.344642Z",
     "iopub.status.idle": "2021-06-30T06:51:38.347600Z",
     "shell.execute_reply": "2021-06-30T06:51:38.347097Z",
     "shell.execute_reply.started": "2021-06-30T06:46:23.195777Z"
    },
    "papermill": {
     "duration": 0.04125,
     "end_time": "2021-06-30T06:51:38.347740",
     "exception": false,
     "start_time": "2021-06-30T06:51:38.306490",
     "status": "completed"
    },
    "tags": []
   },
   "outputs": [],
   "source": [
    "df_train = df[:250]\n",
    "df_test = df[250:]"
   ]
  },
  {
   "cell_type": "code",
   "execution_count": 22,
   "id": "rocky-intro",
   "metadata": {
    "execution": {
     "iopub.execute_input": "2021-06-30T06:51:38.419414Z",
     "iopub.status.busy": "2021-06-30T06:51:38.418409Z",
     "iopub.status.idle": "2021-06-30T06:51:38.431024Z",
     "shell.execute_reply": "2021-06-30T06:51:38.429676Z",
     "shell.execute_reply.started": "2021-06-30T06:46:23.200916Z"
    },
    "papermill": {
     "duration": 0.049544,
     "end_time": "2021-06-30T06:51:38.431182",
     "exception": false,
     "start_time": "2021-06-30T06:51:38.381638",
     "status": "completed"
    },
    "tags": []
   },
   "outputs": [],
   "source": [
    "# p = 2,3, d=0, \n",
    "arima_model = ARIMA(df_train, order=(2,0,1))"
   ]
  },
  {
   "cell_type": "code",
   "execution_count": 23,
   "id": "sporting-worse",
   "metadata": {
    "execution": {
     "iopub.execute_input": "2021-06-30T06:51:38.517691Z",
     "iopub.status.busy": "2021-06-30T06:51:38.516952Z",
     "iopub.status.idle": "2021-06-30T06:51:38.897473Z",
     "shell.execute_reply": "2021-06-30T06:51:38.896872Z",
     "shell.execute_reply.started": "2021-06-30T06:46:23.222571Z"
    },
    "papermill": {
     "duration": 0.432779,
     "end_time": "2021-06-30T06:51:38.897619",
     "exception": false,
     "start_time": "2021-06-30T06:51:38.464840",
     "status": "completed"
    },
    "tags": []
   },
   "outputs": [],
   "source": [
    "arima_model_fit = arima_model.fit()"
   ]
  },
  {
   "cell_type": "code",
   "execution_count": 24,
   "id": "competent-banks",
   "metadata": {
    "execution": {
     "iopub.execute_input": "2021-06-30T06:51:38.972695Z",
     "iopub.status.busy": "2021-06-30T06:51:38.971509Z",
     "iopub.status.idle": "2021-06-30T06:51:38.976305Z",
     "shell.execute_reply": "2021-06-30T06:51:38.975748Z",
     "shell.execute_reply.started": "2021-06-30T06:46:23.485685Z"
    },
    "papermill": {
     "duration": 0.044027,
     "end_time": "2021-06-30T06:51:38.976459",
     "exception": false,
     "start_time": "2021-06-30T06:51:38.932432",
     "status": "completed"
    },
    "tags": []
   },
   "outputs": [
    {
     "data": {
      "text/plain": [
       "4373.029628308562"
      ]
     },
     "execution_count": 24,
     "metadata": {},
     "output_type": "execute_result"
    }
   ],
   "source": [
    "arima_model_fit.aic"
   ]
  },
  {
   "cell_type": "code",
   "execution_count": 25,
   "id": "arctic-double",
   "metadata": {
    "execution": {
     "iopub.execute_input": "2021-06-30T06:51:39.054281Z",
     "iopub.status.busy": "2021-06-30T06:51:39.053631Z",
     "iopub.status.idle": "2021-06-30T06:51:39.058671Z",
     "shell.execute_reply": "2021-06-30T06:51:39.058009Z",
     "shell.execute_reply.started": "2021-06-30T06:46:23.495364Z"
    },
    "papermill": {
     "duration": 0.044848,
     "end_time": "2021-06-30T06:51:39.058813",
     "exception": false,
     "start_time": "2021-06-30T06:51:39.013965",
     "status": "completed"
    },
    "tags": []
   },
   "outputs": [],
   "source": [
    "forecast  = arima_model_fit.forecast(steps = 115)[0]"
   ]
  },
  {
   "cell_type": "code",
   "execution_count": 26,
   "id": "forty-progressive",
   "metadata": {
    "execution": {
     "iopub.execute_input": "2021-06-30T06:51:39.136553Z",
     "iopub.status.busy": "2021-06-30T06:51:39.135790Z",
     "iopub.status.idle": "2021-06-30T06:51:39.138659Z",
     "shell.execute_reply": "2021-06-30T06:51:39.139255Z",
     "shell.execute_reply.started": "2021-06-30T06:46:23.506988Z"
    },
    "papermill": {
     "duration": 0.0456,
     "end_time": "2021-06-30T06:51:39.139444",
     "exception": false,
     "start_time": "2021-06-30T06:51:39.093844",
     "status": "completed"
    },
    "tags": []
   },
   "outputs": [
    {
     "data": {
      "text/plain": [
       "array([11145.67729886, 13015.89649846, 12732.79989453, 11182.98880807,\n",
       "        9899.34190852,  9736.33762767, 10459.4538117 , 11260.33791743,\n",
       "       11528.91192897, 11236.82626347, 10774.58192805, 10533.834863  ,\n",
       "       10620.68852567, 10868.24652076, 11044.79583422, 11043.67148096,\n",
       "       10921.77264286, 10806.33927245, 10779.72503816, 10833.35483343,\n",
       "       10902.69294322, 10932.08786182, 10912.65554507, 10874.01391624,\n",
       "       10850.47701071, 10854.48551944, 10874.41493664, 10890.66976177,\n",
       "       10892.52572824, 10883.17047479, 10872.98217691, 10869.67250797,\n",
       "       10873.49016937, 10879.3945175 , 10882.41023694, 10881.24421592,\n",
       "       10878.06877816, 10875.83972227, 10875.88803349, 10877.4596111 ,\n",
       "       10878.92469014, 10879.24575215, 10878.54913938, 10877.66534853,\n",
       "       10877.29960333, 10877.55579815, 10878.05033084, 10878.34642054,\n",
       "       10878.29022597, 10878.034019  , 10877.82824234, 10877.80742426,\n",
       "       10877.92840862, 10878.05798722, 10878.09871158, 10878.04885185,\n",
       "       10877.97345094, 10877.93569636, 10877.9513089 , 10877.99203043,\n",
       "       10878.02016424, 10878.01911439, 10877.99885934, 10877.98026925,\n",
       "       10877.97641   , 10877.98545379, 10877.99671618, 10878.00126292,\n",
       "       10877.99788943, 10877.99156188, 10877.98783874, 10877.98862003,\n",
       "       10877.99191287, 10877.99451713, 10877.99474615, 10877.99318216,\n",
       "       10877.99153452, 10877.99103422, 10877.99168493, 10877.99264762,\n",
       "       10877.99311999, 10877.99291145, 10877.99238937, 10877.9920344 ,\n",
       "       10877.99205333, 10877.9923143 , 10877.99255012, 10877.99259633,\n",
       "       10877.99247897, 10877.99233549, 10877.99227902, 10877.99232339,\n",
       "       10877.99240433, 10877.99245112, 10877.99244034, 10877.99239803,\n",
       "       10877.99236508, 10877.99236262, 10877.99238283, 10877.99240378,\n",
       "       10877.99240992, 10877.99240143, 10877.99238914, 10877.99238323,\n",
       "       10877.99238601, 10877.99239271, 10877.99239718, 10877.99239687,\n",
       "       10877.99239351, 10877.99239052, 10877.99238997, 10877.99239149,\n",
       "       10877.99239332, 10877.99239402, 10877.99239343])"
      ]
     },
     "execution_count": 26,
     "metadata": {},
     "output_type": "execute_result"
    }
   ],
   "source": [
    "forecast"
   ]
  },
  {
   "cell_type": "code",
   "execution_count": 27,
   "id": "level-settlement",
   "metadata": {
    "execution": {
     "iopub.execute_input": "2021-06-30T06:51:39.216025Z",
     "iopub.status.busy": "2021-06-30T06:51:39.215351Z",
     "iopub.status.idle": "2021-06-30T06:51:39.222905Z",
     "shell.execute_reply": "2021-06-30T06:51:39.223359Z",
     "shell.execute_reply.started": "2021-06-30T06:46:23.520012Z"
    },
    "papermill": {
     "duration": 0.046214,
     "end_time": "2021-06-30T06:51:39.223529",
     "exception": false,
     "start_time": "2021-06-30T06:51:39.177315",
     "status": "completed"
    },
    "tags": []
   },
   "outputs": [
    {
     "data": {
      "text/html": [
       "<div>\n",
       "<style scoped>\n",
       "    .dataframe tbody tr th:only-of-type {\n",
       "        vertical-align: middle;\n",
       "    }\n",
       "\n",
       "    .dataframe tbody tr th {\n",
       "        vertical-align: top;\n",
       "    }\n",
       "\n",
       "    .dataframe thead th {\n",
       "        text-align: right;\n",
       "    }\n",
       "</style>\n",
       "<table border=\"1\" class=\"dataframe\">\n",
       "  <thead>\n",
       "    <tr style=\"text-align: right;\">\n",
       "      <th></th>\n",
       "      <th>births</th>\n",
       "    </tr>\n",
       "    <tr>\n",
       "      <th>date</th>\n",
       "      <th></th>\n",
       "    </tr>\n",
       "  </thead>\n",
       "  <tbody>\n",
       "    <tr>\n",
       "      <th>2015-09-08</th>\n",
       "      <td>12823</td>\n",
       "    </tr>\n",
       "    <tr>\n",
       "      <th>2015-09-09</th>\n",
       "      <td>13949</td>\n",
       "    </tr>\n",
       "    <tr>\n",
       "      <th>2015-09-10</th>\n",
       "      <td>13925</td>\n",
       "    </tr>\n",
       "    <tr>\n",
       "      <th>2015-09-11</th>\n",
       "      <td>12295</td>\n",
       "    </tr>\n",
       "    <tr>\n",
       "      <th>2015-09-12</th>\n",
       "      <td>9062</td>\n",
       "    </tr>\n",
       "  </tbody>\n",
       "</table>\n",
       "</div>"
      ],
      "text/plain": [
       "            births\n",
       "date              \n",
       "2015-09-08   12823\n",
       "2015-09-09   13949\n",
       "2015-09-10   13925\n",
       "2015-09-11   12295\n",
       "2015-09-12    9062"
      ]
     },
     "execution_count": 27,
     "metadata": {},
     "output_type": "execute_result"
    }
   ],
   "source": [
    "df_test.head()"
   ]
  },
  {
   "cell_type": "code",
   "execution_count": 28,
   "id": "dutch-desire",
   "metadata": {
    "execution": {
     "iopub.execute_input": "2021-06-30T06:51:39.297848Z",
     "iopub.status.busy": "2021-06-30T06:51:39.297128Z",
     "iopub.status.idle": "2021-06-30T06:51:39.303799Z",
     "shell.execute_reply": "2021-06-30T06:51:39.304279Z",
     "shell.execute_reply.started": "2021-06-30T06:46:23.534577Z"
    },
    "papermill": {
     "duration": 0.045862,
     "end_time": "2021-06-30T06:51:39.304458",
     "exception": false,
     "start_time": "2021-06-30T06:51:39.258596",
     "status": "completed"
    },
    "tags": []
   },
   "outputs": [
    {
     "data": {
      "text/plain": [
       "2089.470032186128"
      ]
     },
     "execution_count": 28,
     "metadata": {},
     "output_type": "execute_result"
    }
   ],
   "source": [
    "np.sqrt(mean_squared_error(df_test.births,forecast))"
   ]
  },
  {
   "cell_type": "markdown",
   "id": "cardiovascular-possible",
   "metadata": {
    "papermill": {
     "duration": 0.034712,
     "end_time": "2021-06-30T06:51:39.374939",
     "exception": false,
     "start_time": "2021-06-30T06:51:39.340227",
     "status": "completed"
    },
    "tags": []
   },
   "source": [
    "We have got much lower error in ARIMA method than the naive methodology 2202 instead of 2089"
   ]
  }
 ],
 "metadata": {
  "kernelspec": {
   "display_name": "Python 3",
   "language": "python",
   "name": "python3"
  },
  "language_info": {
   "codemirror_mode": {
    "name": "ipython",
    "version": 3
   },
   "file_extension": ".py",
   "mimetype": "text/x-python",
   "name": "python",
   "nbconvert_exporter": "python",
   "pygments_lexer": "ipython3",
   "version": "3.7.10"
  },
  "papermill": {
   "default_parameters": {},
   "duration": 14.664411,
   "end_time": "2021-06-30T06:51:40.220639",
   "environment_variables": {},
   "exception": null,
   "input_path": "__notebook__.ipynb",
   "output_path": "__notebook__.ipynb",
   "parameters": {},
   "start_time": "2021-06-30T06:51:25.556228",
   "version": "2.3.3"
  }
 },
 "nbformat": 4,
 "nbformat_minor": 5
}
